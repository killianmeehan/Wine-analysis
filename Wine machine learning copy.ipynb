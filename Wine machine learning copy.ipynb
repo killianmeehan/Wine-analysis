{
 "cells": [
  {
   "cell_type": "code",
   "execution_count": 51,
   "metadata": {},
   "outputs": [],
   "source": [
    "#import libraries\n",
    "import numpy as np\n",
    "import pandas as pd\n",
    "import seaborn as sns\n",
    "import matplotlib.pyplot as plt\n",
    "\n",
    "# Import models\n",
    "from sklearn.tree import DecisionTreeClassifier\n",
    "from sklearn.svm import SVC\n",
    "from sklearn.neighbors import KNeighborsClassifier\n",
    "from sklearn.linear_model import LogisticRegression\n",
    "from sklearn.ensemble import RandomForestClassifier\n",
    "\n",
    "from sklearn.datasets import make_classification\n",
    "from sklearn.feature_selection import SelectKBest,f_classif, chi2\n",
    "from sklearn.datasets import make_regression\n",
    "from sklearn.linear_model import LinearRegression\n",
    "from matplotlib import pyplot\n",
    "from collections import Counter\n",
    "from sklearn.feature_selection import RFE\n",
    "from sklearn.linear_model import RidgeCV, LassoCV, Ridge, Lasso\n",
    "\n",
    "# metrics evaluation\n",
    "from sklearn.metrics import confusion_matrix, classification_report, accuracy_score\n",
    "from sklearn.metrics import cohen_kappa_score\n",
    "import statsmodels.api as sm\n",
    "\n",
    "# To standardise data\n",
    "from sklearn.preprocessing import StandardScaler, LabelEncoder, OrdinalEncoder\n",
    "#from imblearn.under_sampling import RandomUnderSampler\n",
    "\n",
    "# For train/test split\n",
    "from sklearn.model_selection import train_test_split\n",
    "\n",
    "\n",
    "from sklearn.feature_selection import VarianceThreshold as vt\n",
    "#from imblearn.pipeline import make_pipeline, Pipeline\n",
    "#from imblearn.over_sampling import SMOTE\n",
    "from sklearn.model_selection import GridSearchCV"
   ]
  },
  {
   "cell_type": "code",
   "execution_count": 52,
   "metadata": {},
   "outputs": [],
   "source": [
    "#import CSVs, assign headers and remove quotations from column headers\n",
    "white_wine = pd.read_csv(r'C:\\Users\\Killian\\Projects\\Wine analysis\\Wine data\\winequality-white.csv', sep=';',header=0, engine='python')"
   ]
  },
  {
   "cell_type": "code",
   "execution_count": 53,
   "metadata": {},
   "outputs": [],
   "source": [
    "white_wine['label'] = white_wine['quality'].apply(lambda value: 'low'\n",
    "if value <= 4 else 'medium-low'\n",
    "if value == 5 else 'medium' if value == 6 else 'medium-high' if value == 7 else 'high')"
   ]
  },
  {
   "cell_type": "code",
   "execution_count": 54,
   "metadata": {},
   "outputs": [
    {
     "data": {
      "text/html": [
       "<div>\n",
       "<style scoped>\n",
       "    .dataframe tbody tr th:only-of-type {\n",
       "        vertical-align: middle;\n",
       "    }\n",
       "\n",
       "    .dataframe tbody tr th {\n",
       "        vertical-align: top;\n",
       "    }\n",
       "\n",
       "    .dataframe thead th {\n",
       "        text-align: right;\n",
       "    }\n",
       "</style>\n",
       "<table border=\"1\" class=\"dataframe\">\n",
       "  <thead>\n",
       "    <tr style=\"text-align: right;\">\n",
       "      <th></th>\n",
       "      <th>Skewness</th>\n",
       "      <th>Kurtosis</th>\n",
       "    </tr>\n",
       "  </thead>\n",
       "  <tbody>\n",
       "    <tr>\n",
       "      <th>fixed acidity</th>\n",
       "      <td>0.65</td>\n",
       "      <td>2.17</td>\n",
       "    </tr>\n",
       "    <tr>\n",
       "      <th>volatile acidity</th>\n",
       "      <td>1.58</td>\n",
       "      <td>5.09</td>\n",
       "    </tr>\n",
       "    <tr>\n",
       "      <th>citric acid</th>\n",
       "      <td>1.28</td>\n",
       "      <td>6.17</td>\n",
       "    </tr>\n",
       "    <tr>\n",
       "      <th>residual sugar</th>\n",
       "      <td>1.08</td>\n",
       "      <td>3.47</td>\n",
       "    </tr>\n",
       "    <tr>\n",
       "      <th>chlorides</th>\n",
       "      <td>5.02</td>\n",
       "      <td>37.56</td>\n",
       "    </tr>\n",
       "    <tr>\n",
       "      <th>free sulfur dioxide</th>\n",
       "      <td>1.41</td>\n",
       "      <td>11.47</td>\n",
       "    </tr>\n",
       "    <tr>\n",
       "      <th>total sulfur dioxide</th>\n",
       "      <td>0.39</td>\n",
       "      <td>0.57</td>\n",
       "    </tr>\n",
       "    <tr>\n",
       "      <th>density</th>\n",
       "      <td>0.98</td>\n",
       "      <td>9.79</td>\n",
       "    </tr>\n",
       "    <tr>\n",
       "      <th>pH</th>\n",
       "      <td>0.46</td>\n",
       "      <td>0.53</td>\n",
       "    </tr>\n",
       "    <tr>\n",
       "      <th>sulphates</th>\n",
       "      <td>0.98</td>\n",
       "      <td>1.59</td>\n",
       "    </tr>\n",
       "    <tr>\n",
       "      <th>alcohol</th>\n",
       "      <td>0.49</td>\n",
       "      <td>-0.70</td>\n",
       "    </tr>\n",
       "  </tbody>\n",
       "</table>\n",
       "</div>"
      ],
      "text/plain": [
       "                      Skewness  Kurtosis\n",
       "fixed acidity             0.65      2.17\n",
       "volatile acidity          1.58      5.09\n",
       "citric acid               1.28      6.17\n",
       "residual sugar            1.08      3.47\n",
       "chlorides                 5.02     37.56\n",
       "free sulfur dioxide       1.41     11.47\n",
       "total sulfur dioxide      0.39      0.57\n",
       "density                   0.98      9.79\n",
       "pH                        0.46      0.53\n",
       "sulphates                 0.98      1.59\n",
       "alcohol                   0.49     -0.70"
      ]
     },
     "metadata": {},
     "output_type": "display_data"
    }
   ],
   "source": [
    "wine = []\n",
    "for column in white_wine.columns[0:-2]:\n",
    "        wine.append([white_wine[column].astype(float).skew().round(2), white_wine[column].astype(float).kurt().round(2)])\n",
    "\n",
    "wine_stats = pd.DataFrame(wine, index=[white_wine.columns[0:-2]], columns=['Skewness', 'Kurtosis'])\n",
    "display(wine_stats)"
   ]
  },
  {
   "cell_type": "code",
   "execution_count": 55,
   "metadata": {},
   "outputs": [
    {
     "data": {
      "text/plain": [
       "medium         2198\n",
       "medium-low     1457\n",
       "medium-high     880\n",
       "low             183\n",
       "high            180\n",
       "Name: label, dtype: int64"
      ]
     },
     "execution_count": 55,
     "metadata": {},
     "output_type": "execute_result"
    }
   ],
   "source": [
    "\n",
    "white_wine[\"label\"].value_counts()"
   ]
  },
  {
   "cell_type": "code",
   "execution_count": 56,
   "metadata": {},
   "outputs": [
    {
     "data": {
      "text/plain": [
       "medium    2198\n",
       "low       1640\n",
       "high      1060\n",
       "Name: label, dtype: int64"
      ]
     },
     "execution_count": 56,
     "metadata": {},
     "output_type": "execute_result"
    }
   ],
   "source": [
    "white_wine['label'] = white_wine['quality'].apply(lambda value: 'low' if value <= 5 else 'medium' if value <=6 else 'high')\n",
    "white_wine.head()\n",
    "white_wine[\"label\"].value_counts()"
   ]
  },
  {
   "cell_type": "code",
   "execution_count": 57,
   "metadata": {},
   "outputs": [
    {
     "data": {
      "text/plain": [
       "Index(['fixed acidity', 'volatile acidity', 'citric acid', 'residual sugar',\n",
       "       'chlorides', 'free sulfur dioxide', 'total sulfur dioxide', 'density',\n",
       "       'pH', 'sulphates', 'alcohol', 'quality', 'label'],\n",
       "      dtype='object')"
      ]
     },
     "execution_count": 57,
     "metadata": {},
     "output_type": "execute_result"
    }
   ],
   "source": [
    "features=white_wine.columns\n",
    "features"
   ]
  },
  {
   "cell_type": "code",
   "execution_count": 58,
   "metadata": {},
   "outputs": [
    {
     "data": {
      "text/plain": [
       "2    2198\n",
       "1    1640\n",
       "0    1060\n",
       "Name: category, dtype: int64"
      ]
     },
     "execution_count": 58,
     "metadata": {},
     "output_type": "execute_result"
    }
   ],
   "source": [
    "white_label = LabelEncoder()\n",
    "white_wine['category'] = white_label.fit_transform(white_wine['label'])\n",
    "white_wine['category'].value_counts()\n",
    "#As seen from previous results, Medium = 2, Low = 1, High = 0.\n",
    "#Can't use OrdinalEncoder as it is 1D data. Ordinal Encoder is used on 2D array. "
   ]
  },
  {
   "cell_type": "code",
   "execution_count": 59,
   "metadata": {},
   "outputs": [],
   "source": [
    "#white_label = OrdinalEncoder(categories=[['low', 'medium', 'high']])\n",
    "#white_wine['label'].values.reshape(-1,1)\n",
    "#white_wine['category'] = white_label.fit_transform(white_wine['label'])\n",
    "#white_wine['category'].value_counts()"
   ]
  },
  {
   "cell_type": "code",
   "execution_count": 82,
   "metadata": {},
   "outputs": [
    {
     "data": {
      "text/html": [
       "<div>\n",
       "<style scoped>\n",
       "    .dataframe tbody tr th:only-of-type {\n",
       "        vertical-align: middle;\n",
       "    }\n",
       "\n",
       "    .dataframe tbody tr th {\n",
       "        vertical-align: top;\n",
       "    }\n",
       "\n",
       "    .dataframe thead th {\n",
       "        text-align: right;\n",
       "    }\n",
       "</style>\n",
       "<table border=\"1\" class=\"dataframe\">\n",
       "  <thead>\n",
       "    <tr style=\"text-align: right;\">\n",
       "      <th></th>\n",
       "      <th>fixed acidity</th>\n",
       "      <th>volatile acidity</th>\n",
       "      <th>citric acid</th>\n",
       "      <th>residual sugar</th>\n",
       "      <th>chlorides</th>\n",
       "      <th>free sulfur dioxide</th>\n",
       "      <th>total sulfur dioxide</th>\n",
       "      <th>density</th>\n",
       "      <th>pH</th>\n",
       "      <th>sulphates</th>\n",
       "      <th>alcohol</th>\n",
       "      <th>quality</th>\n",
       "      <th>label</th>\n",
       "      <th>category</th>\n",
       "    </tr>\n",
       "  </thead>\n",
       "  <tbody>\n",
       "    <tr>\n",
       "      <th>4893</th>\n",
       "      <td>6.2</td>\n",
       "      <td>0.21</td>\n",
       "      <td>0.29</td>\n",
       "      <td>1.6</td>\n",
       "      <td>0.039</td>\n",
       "      <td>24.0</td>\n",
       "      <td>92.0</td>\n",
       "      <td>0.99114</td>\n",
       "      <td>3.27</td>\n",
       "      <td>0.50</td>\n",
       "      <td>11.2</td>\n",
       "      <td>6</td>\n",
       "      <td>medium</td>\n",
       "      <td>2</td>\n",
       "    </tr>\n",
       "    <tr>\n",
       "      <th>4894</th>\n",
       "      <td>6.6</td>\n",
       "      <td>0.32</td>\n",
       "      <td>0.36</td>\n",
       "      <td>8.0</td>\n",
       "      <td>0.047</td>\n",
       "      <td>57.0</td>\n",
       "      <td>168.0</td>\n",
       "      <td>0.99490</td>\n",
       "      <td>3.15</td>\n",
       "      <td>0.46</td>\n",
       "      <td>9.6</td>\n",
       "      <td>5</td>\n",
       "      <td>low</td>\n",
       "      <td>1</td>\n",
       "    </tr>\n",
       "    <tr>\n",
       "      <th>4895</th>\n",
       "      <td>6.5</td>\n",
       "      <td>0.24</td>\n",
       "      <td>0.19</td>\n",
       "      <td>1.2</td>\n",
       "      <td>0.041</td>\n",
       "      <td>30.0</td>\n",
       "      <td>111.0</td>\n",
       "      <td>0.99254</td>\n",
       "      <td>2.99</td>\n",
       "      <td>0.46</td>\n",
       "      <td>9.4</td>\n",
       "      <td>6</td>\n",
       "      <td>medium</td>\n",
       "      <td>2</td>\n",
       "    </tr>\n",
       "    <tr>\n",
       "      <th>4896</th>\n",
       "      <td>5.5</td>\n",
       "      <td>0.29</td>\n",
       "      <td>0.30</td>\n",
       "      <td>1.1</td>\n",
       "      <td>0.022</td>\n",
       "      <td>20.0</td>\n",
       "      <td>110.0</td>\n",
       "      <td>0.98869</td>\n",
       "      <td>3.34</td>\n",
       "      <td>0.38</td>\n",
       "      <td>12.8</td>\n",
       "      <td>7</td>\n",
       "      <td>high</td>\n",
       "      <td>0</td>\n",
       "    </tr>\n",
       "    <tr>\n",
       "      <th>4897</th>\n",
       "      <td>6.0</td>\n",
       "      <td>0.21</td>\n",
       "      <td>0.38</td>\n",
       "      <td>0.8</td>\n",
       "      <td>0.020</td>\n",
       "      <td>22.0</td>\n",
       "      <td>98.0</td>\n",
       "      <td>0.98941</td>\n",
       "      <td>3.26</td>\n",
       "      <td>0.32</td>\n",
       "      <td>11.8</td>\n",
       "      <td>6</td>\n",
       "      <td>medium</td>\n",
       "      <td>2</td>\n",
       "    </tr>\n",
       "  </tbody>\n",
       "</table>\n",
       "</div>"
      ],
      "text/plain": [
       "      fixed acidity  volatile acidity  citric acid  residual sugar  chlorides  \\\n",
       "4893            6.2              0.21         0.29             1.6      0.039   \n",
       "4894            6.6              0.32         0.36             8.0      0.047   \n",
       "4895            6.5              0.24         0.19             1.2      0.041   \n",
       "4896            5.5              0.29         0.30             1.1      0.022   \n",
       "4897            6.0              0.21         0.38             0.8      0.020   \n",
       "\n",
       "      free sulfur dioxide  total sulfur dioxide  density    pH  sulphates  \\\n",
       "4893                 24.0                  92.0  0.99114  3.27       0.50   \n",
       "4894                 57.0                 168.0  0.99490  3.15       0.46   \n",
       "4895                 30.0                 111.0  0.99254  2.99       0.46   \n",
       "4896                 20.0                 110.0  0.98869  3.34       0.38   \n",
       "4897                 22.0                  98.0  0.98941  3.26       0.32   \n",
       "\n",
       "      alcohol  quality   label  category  \n",
       "4893     11.2        6  medium         2  \n",
       "4894      9.6        5     low         1  \n",
       "4895      9.4        6  medium         2  \n",
       "4896     12.8        7    high         0  \n",
       "4897     11.8        6  medium         2  "
      ]
     },
     "execution_count": 82,
     "metadata": {},
     "output_type": "execute_result"
    }
   ],
   "source": [
    "white_wine.tail()"
   ]
  },
  {
   "cell_type": "code",
   "execution_count": 84,
   "metadata": {},
   "outputs": [
    {
     "name": "stdout",
     "output_type": "stream",
     "text": [
      "['fixed acidity', 'volatile acidity', 'citric acid', 'residual sugar', 'chlorides', 'free sulfur dioxide', 'total sulfur dioxide', 'density', 'pH', 'sulphates', 'alcohol']\n",
      "0       2\n",
      "1       2\n",
      "2       2\n",
      "3       2\n",
      "4       2\n",
      "       ..\n",
      "4893    2\n",
      "4894    1\n",
      "4895    2\n",
      "4896    0\n",
      "4897    2\n",
      "Name: category, Length: 4898, dtype: int32\n"
     ]
    }
   ],
   "source": [
    "#Create target and features for algorithm\n",
    "#Full feature list for ease of access while doing Backward Eliination and refining model: 'fixed acidity', 'volatile acidity', 'residual sugar', 'density', 'pH', \n",
    "# 'sulphates','citric acid', 'chlorides', 'free sulfur dioxide', 'total sulfur dioxide', 'alcohol'\n",
    "X = white_wine.copy()\n",
    "y = X.category #target\n",
    "X =white_wine.drop(columns=['quality', 'category', 'label']) # features we want to test, except target and correlated values, i.e. Quality and Label. \n",
    "# Final list will include features removed due to results from Backward Elimination.\n",
    "X_list = list(X.columns)\n",
    "print(X.columns.tolist())\n",
    "print(y)"
   ]
  },
  {
   "cell_type": "code",
   "execution_count": 85,
   "metadata": {},
   "outputs": [
    {
     "name": "stdout",
     "output_type": "stream",
     "text": [
      "Counter({2: 1766, 1: 1319, 0: 833}) Counter({2: 432, 1: 321, 0: 227})\n",
      "Features: ['fixed acidity', 'volatile acidity', 'citric acid', 'residual sugar', 'chlorides', 'free sulfur dioxide', 'total sulfur dioxide', 'density', 'pH', 'sulphates', 'alcohol']\n"
     ]
    }
   ],
   "source": [
    "# Split the data into training and testing sets\n",
    "X_train, X_test, y_train, y_test = train_test_split(X, y, test_size=0.2, random_state=42, ) # random state controls the shuffling applied before the split. 42 is a popular random seed.\n",
    "\n",
    "print(Counter(y_train), Counter(y_test))\n",
    "print('Features:', list(X))"
   ]
  },
  {
   "cell_type": "code",
   "execution_count": 86,
   "metadata": {},
   "outputs": [
    {
     "name": "stdout",
     "output_type": "stream",
     "text": [
      "Training Features Shape: (3918, 11)\n",
      "Training Labels Shape: (3918,)\n",
      "Testing Features Shape: (980, 11)\n",
      "Testing Labels Shape: (980,)\n"
     ]
    }
   ],
   "source": [
    "# Because of the skewedness of the model, with many outliers, it does not seem appropriate to use either normalisation or\n",
    "# standardisation. I will be applying a tree based algorithm which is insensitive to the scale of features as it splits\n",
    "# nodes based on single features. \n",
    "\n",
    "#Below I am testing to make sure the shapes are as predicted (column numbers match)\n",
    "\n",
    "print('Training Features Shape:', X_train.shape)\n",
    "print('Training Labels Shape:', y_train.shape)\n",
    "print('Testing Features Shape:', X_test.shape)\n",
    "print('Testing Labels Shape:', y_test.shape)"
   ]
  },
  {
   "cell_type": "code",
   "execution_count": 87,
   "metadata": {},
   "outputs": [],
   "source": [
    "# Instantiate model with 1000 decision trees\n",
    "rfc = RandomForestClassifier(n_estimators = 1000, random_state = 42)\n",
    "# Train the model on training data\n",
    "rfc.fit(X_train, y_train);"
   ]
  },
  {
   "cell_type": "code",
   "execution_count": 88,
   "metadata": {},
   "outputs": [
    {
     "name": "stdout",
     "output_type": "stream",
     "text": [
      "(980,)\n",
      "(980,)\n"
     ]
    }
   ],
   "source": [
    "pred_rfc = rfc.predict(X_test) #The predicted class of an input sample is a vote by the trees in the forest, weighted by their probability estimates. \n",
    "#That is, the predicted class is the one with highest mean probability estimate across the trees.\n",
    "print(pred_rfc.shape)\n",
    "print(y_test.shape)"
   ]
  },
  {
   "cell_type": "code",
   "execution_count": 96,
   "metadata": {},
   "outputs": [
    {
     "name": "stdout",
     "output_type": "stream",
     "text": [
      "Accuracy: 74.08 %\n"
     ]
    }
   ],
   "source": [
    "#Import scikit-learn metrics module for accuracy calculation\n",
    "# Model Accuracy, how often is the classifier correct?\n",
    "Score = round(accuracy_score(y_test, pred_rfc), 4)*100\n",
    "print(\"Accuracy:\", Score, \"%\")"
   ]
  },
  {
   "cell_type": "code",
   "execution_count": 101,
   "metadata": {},
   "outputs": [
    {
     "name": "stdout",
     "output_type": "stream",
     "text": [
      "Cohen-Kappa score: 0.59\n"
     ]
    }
   ],
   "source": [
    "kappa = cohen_kappa_score(pred_rfc, y_test)\n",
    "print(\"Cohen-Kappa score:\", round(kappa, 2))"
   ]
  },
  {
   "cell_type": "code",
   "execution_count": 102,
   "metadata": {},
   "outputs": [
    {
     "name": "stdout",
     "output_type": "stream",
     "text": [
      "              precision    recall  f1-score   support\n",
      "\n",
      "         low       0.83      0.67      0.74       227\n",
      "      medium       0.77      0.74      0.75       321\n",
      "        high       0.69      0.78      0.73       432\n",
      "\n",
      "    accuracy                           0.74       980\n",
      "   macro avg       0.76      0.73      0.74       980\n",
      "weighted avg       0.75      0.74      0.74       980\n",
      "\n"
     ]
    }
   ],
   "source": [
    "print(classification_report(y_test, pred_rfc, target_names=[\"low\",\"medium\", \"high\"]))"
   ]
  },
  {
   "cell_type": "code",
   "execution_count": 103,
   "metadata": {},
   "outputs": [
    {
     "name": "stdout",
     "output_type": "stream",
     "text": [
      "Confusion matrix:\n",
      "[[152   5  70]\n",
      " [  3 238  80]\n",
      " [ 29  67 336]]\n"
     ]
    }
   ],
   "source": [
    "print(\"Confusion matrix:\")\n",
    "print(confusion_matrix(y_test, pred_rfc))"
   ]
  },
  {
   "cell_type": "code",
   "execution_count": 68,
   "metadata": {},
   "outputs": [
    {
     "name": "stdout",
     "output_type": "stream",
     "text": [
      "[['fixed acidity' '0.1339275902889888']\n",
      " ['volatile acidity' '0.16212773104309725']\n",
      " ['residual sugar' '0.17637490273748602']\n",
      " ['density' '0.2342737558422072']\n",
      " ['pH' '0.15163447638252817']\n",
      " ['sulphates' '0.14166154370569264']]\n"
     ]
    }
   ],
   "source": [
    "#show feature importance\n",
    "\n",
    "#for i in zip(X_list, rfc.feature_importances_):\n",
    "#    print (i)\n",
    "\n",
    "a = np.array([X_list,rfc.feature_importances_])\n",
    "print(a.T)"
   ]
  },
  {
   "cell_type": "code",
   "execution_count": 69,
   "metadata": {},
   "outputs": [
    {
     "data": {
      "image/png": "[encoded data removed]",
      "text/plain": [
       "<Figure size 432x288 with 1 Axes>"
      ]
     },
     "metadata": {
      "needs_background": "light"
     },
     "output_type": "display_data"
    }
   ],
   "source": [
    "importances = rfc.feature_importances_\n",
    "rfc_feature_names, rfc_feature_scores = zip(*sorted(zip(['fixed acidity', 'volatile acidity', 'residual sugar', 'density', 'pH', 'sulphates'],\n",
    "importances), key=lambda x: x[1]))\n",
    "y_position = list(range(len(rfc_feature_names)))\n",
    "plt.barh(y_position, rfc_feature_scores, height=0.6, align='center')\n",
    "plt.yticks(y_position , rfc_feature_names)\n",
    "plt.xlabel('Relative Importance')\n",
    "plt.ylabel('Feature')\n",
    "t = plt.title('Feature Importances for Random Forest Classifier')"
   ]
  },
  {
   "cell_type": "code",
   "execution_count": null,
   "metadata": {},
   "outputs": [],
   "source": [
    "rfc.plot_importance(xgb_clf, importance_type=\"weight\")"
   ]
  },
  {
   "cell_type": "code",
   "execution_count": 70,
   "metadata": {},
   "outputs": [
    {
     "data": {
      "text/plain": [
       "const               1.673776e-31\n",
       "fixed acidity       1.633678e-06\n",
       "volatile acidity    2.867433e-06\n",
       "residual sugar      3.060706e-16\n",
       "density             8.733747e-33\n",
       "pH                  3.907254e-08\n",
       "sulphates           4.640607e-03\n",
       "dtype: float64"
      ]
     },
     "execution_count": 70,
     "metadata": {},
     "output_type": "execute_result"
    }
   ],
   "source": [
    "#Adding constant column of ones, mandatory for sm.OLS model\n",
    "#The performance metric used here to evaluate feature performance is pvalue. \n",
    "# If the pvalue is above 0.05 then we remove the feature, else we keep it.\n",
    "X_1 = sm.add_constant(X)\n",
    "#Fitting sm.OLS model\n",
    "model = sm.OLS(y,X_1).fit()\n",
    "model.pvalues"
   ]
  },
  {
   "cell_type": "code",
   "execution_count": 71,
   "metadata": {},
   "outputs": [
    {
     "name": "stdout",
     "output_type": "stream",
     "text": [
      "['fixed acidity', 'volatile acidity', 'residual sugar', 'density', 'pH', 'sulphates']\n"
     ]
    }
   ],
   "source": [
    "#Backward Elimination\n",
    "cols = list(X.columns)\n",
    "pmax = 1\n",
    "while (len(cols)>0):\n",
    "    p= []\n",
    "    X_1 = X[cols]\n",
    "    X_1 = sm.add_constant(X_1)\n",
    "    model = sm.OLS(y,X_1).fit()\n",
    "    p = pd.Series(model.pvalues.values[1:],index = cols)      \n",
    "    pmax = max(p)\n",
    "    feature_with_p_max = p.idxmax()\n",
    "    if(pmax>0.05):\n",
    "        cols.remove(feature_with_p_max)\n",
    "    else:\n",
    "        break\n",
    "selected_features_BE = cols\n",
    "print(selected_features_BE)"
   ]
  },
  {
   "cell_type": "code",
   "execution_count": 72,
   "metadata": {},
   "outputs": [],
   "source": [
    "# train the model\n",
    "dtc = DecisionTreeClassifier(random_state=42)\n",
    "dtc.fit(X_train, y_train)\n",
    "\n",
    "# predict and evaluate performance\n",
    "pred_dtc = dtc.predict(X_test)"
   ]
  },
  {
   "cell_type": "code",
   "execution_count": 73,
   "metadata": {},
   "outputs": [
    {
     "name": "stdout",
     "output_type": "stream",
     "text": [
      "(980,)\n",
      "(980,)\n"
     ]
    }
   ],
   "source": [
    "pred_dtc = dtc.predict(X_test)\n",
    "print(pred_dtc.shape)\n",
    "print(y_test.shape)"
   ]
  },
  {
   "cell_type": "code",
   "execution_count": 74,
   "metadata": {},
   "outputs": [
    {
     "name": "stdout",
     "output_type": "stream",
     "text": [
      "              precision    recall  f1-score   support\n",
      "\n",
      "         low       0.64      0.69      0.67       227\n",
      "      medium       0.65      0.61      0.63       321\n",
      "        high       0.62      0.62      0.62       432\n",
      "\n",
      "    accuracy                           0.64       980\n",
      "   macro avg       0.64      0.64      0.64       980\n",
      "weighted avg       0.64      0.64      0.64       980\n",
      "\n",
      "Accuracy score: 0.636734693877551\n",
      "Confusion matrix:\n",
      "[[157  11  59]\n",
      " [ 21 197 103]\n",
      " [ 66  96 270]]\n",
      "Cohen-Kappa score: 0.43801908492857655\n"
     ]
    }
   ],
   "source": [
    "print(classification_report(y_test, pred_dtc, target_names=[\"low\",\"medium\", \"high\"]))\n",
    "print(\"Accuracy score:\", accuracy_score(y_test, pred_dtc))\n",
    "print(\"Confusion matrix:\")\n",
    "print(confusion_matrix(y_test, pred_dtc))\n",
    "\n",
    "kappa = cohen_kappa_score(pred_dtc, y_test)\n",
    "print(\"Cohen-Kappa score:\", kappa)"
   ]
  },
  {
   "cell_type": "code",
   "execution_count": 75,
   "metadata": {},
   "outputs": [
    {
     "data": {
      "image/png": "[encoded data removed]",
      "text/plain": [
       "<Figure size 432x288 with 1 Axes>"
      ]
     },
     "metadata": {
      "needs_background": "light"
     },
     "output_type": "display_data"
    }
   ],
   "source": [
    "importances = dtc.feature_importances_\n",
    "dtc_feature_names, dtc_feature_scores = zip(*sorted(zip(['fixed acidity', 'volatile acidity', 'citric acid', 'residual sugar',\n",
    "       'chlorides', 'free sulfur dioxide', 'total sulfur dioxide', 'density',\n",
    "       'pH', 'sulphates', 'alcohol', 'quality'],\n",
    "importances), key=lambda x: x[1]))\n",
    "y_position = list(range(len(dtc_feature_names)))\n",
    "plt.barh(y_position, dtc_feature_scores, height=0.6, align='center')\n",
    "plt.yticks(y_position , dtc_feature_names)\n",
    "plt.xlabel('Relative Importance')\n",
    "plt.ylabel('Feature')\n",
    "t = plt.title('Feature Importances for Decision Tree Classifier')"
   ]
  },
  {
   "cell_type": "code",
   "execution_count": 76,
   "metadata": {},
   "outputs": [
    {
     "data": {
      "text/plain": [
       "LogisticRegression(max_iter=1000)"
      ]
     },
     "execution_count": 76,
     "metadata": {},
     "output_type": "execute_result"
    }
   ],
   "source": [
    "\n",
    "lr = LogisticRegression(max_iter = 1000)\n",
    "lr.fit(X_train, y_train)"
   ]
  },
  {
   "cell_type": "code",
   "execution_count": 77,
   "metadata": {},
   "outputs": [
    {
     "data": {
      "image/png": "[encoded data removed]",
      "text/plain": [
       "<Figure size 432x288 with 1 Axes>"
      ]
     },
     "metadata": {
      "needs_background": "light"
     },
     "output_type": "display_data"
    }
   ],
   "source": [
    "neighbors=np.arange(1,10)\n",
    "train_accuracy=np.empty(len(neighbors))\n",
    "test_accuracy=np.empty(len(neighbors))\n",
    "\n",
    "for i, k in enumerate(neighbors):\n",
    "    knn = KNeighborsClassifier(n_neighbors=k)\n",
    "    knn.fit(X_train, y_train)\n",
    "    train_accuracy[i]=knn.score(X_train, y_train)\n",
    "    test_accuracy[i]=knn.score(X_test, y_test)\n",
    "\n",
    "plt.title(\"knn Accuracy\")\n",
    "plt.plot(neighbors, test_accuracy, label=\"Testing accuracy\")\n",
    "plt.plot(neighbors, train_accuracy, label=\"Training accuracy\")\n",
    "plt.legend()\n",
    "plt.xlabel(\"X\")\n",
    "plt.ylabel(\"y\")\n",
    "plt.show()"
   ]
  },
  {
   "cell_type": "code",
   "execution_count": 78,
   "metadata": {},
   "outputs": [
    {
     "name": "stdout",
     "output_type": "stream",
     "text": [
      "0.523469387755102\n"
     ]
    }
   ],
   "source": [
    "knn=KNeighborsClassifier(n_neighbors=2)\n",
    "knn.fit(X_train, y_train)\n",
    "print(knn.score(X_test, y_test))"
   ]
  },
  {
   "cell_type": "code",
   "execution_count": 79,
   "metadata": {},
   "outputs": [
    {
     "name": "stdout",
     "output_type": "stream",
     "text": [
      "(980,)\n",
      "(980,)\n"
     ]
    }
   ],
   "source": [
    "pred_knn = knn.predict(X_test)\n",
    "print(pred_knn.shape)\n",
    "print(y_test.shape)"
   ]
  },
  {
   "cell_type": "code",
   "execution_count": 80,
   "metadata": {},
   "outputs": [
    {
     "name": "stdout",
     "output_type": "stream",
     "text": [
      "              precision    recall  f1-score   support\n",
      "\n",
      "         low       0.45      0.68      0.54       227\n",
      "      medium       0.51      0.67      0.58       321\n",
      "        high       0.65      0.34      0.44       432\n",
      "\n",
      "    accuracy                           0.52       980\n",
      "   macro avg       0.54      0.56      0.52       980\n",
      "weighted avg       0.56      0.52      0.51       980\n",
      "\n",
      "Accuracy score: 0.523469387755102\n",
      "Confusion matrix:\n",
      "[[154  31  42]\n",
      " [ 71 214  36]\n",
      " [114 173 145]]\n",
      "Cohen-Kappa score: 0.2990705018738523\n"
     ]
    }
   ],
   "source": [
    "print(classification_report(y_test, pred_knn, target_names=[\"low\",\"medium\", \"high\"]))\n",
    "print(\"Accuracy score:\", accuracy_score(y_test, pred_knn))\n",
    "print(\"Confusion matrix:\")\n",
    "print(confusion_matrix(y_test, pred_knn))\n",
    "\n",
    "kappa = cohen_kappa_score(pred_knn, y_test)\n",
    "print(\"Cohen-Kappa score:\", kappa)"
   ]
  },
  {
   "cell_type": "code",
   "execution_count": 81,
   "metadata": {},
   "outputs": [
    {
     "ename": "AttributeError",
     "evalue": "'KNeighborsClassifier' object has no attribute 'feature_importances_'",
     "output_type": "error",
     "traceback": [
      "\u001b[1;31m---------------------------------------------------------------------------\u001b[0m",
      "\u001b[1;31mAttributeError\u001b[0m                            Traceback (most recent call last)",
      "\u001b[1;32m<ipython-input-81-ea7840806177>\u001b[0m in \u001b[0;36m<module>\u001b[1;34m\u001b[0m\n\u001b[0;32m      6\u001b[0m \u001b[1;33m\u001b[0m\u001b[0m\n\u001b[0;32m      7\u001b[0m \u001b[1;33m\u001b[0m\u001b[0m\n\u001b[1;32m----> 8\u001b[1;33m \u001b[0mimportances\u001b[0m \u001b[1;33m=\u001b[0m \u001b[0mknn\u001b[0m\u001b[1;33m.\u001b[0m\u001b[0mfeature_importances_\u001b[0m\u001b[1;33m\u001b[0m\u001b[1;33m\u001b[0m\u001b[0m\n\u001b[0m\u001b[0;32m      9\u001b[0m knn_feature_names, knn_feature_scores = zip(*sorted(zip(['fixed acidity', 'volatile acidity', 'citric acid', 'residual sugar',\n\u001b[0;32m     10\u001b[0m        \u001b[1;34m'chlorides'\u001b[0m\u001b[1;33m,\u001b[0m \u001b[1;34m'free sulfur dioxide'\u001b[0m\u001b[1;33m,\u001b[0m \u001b[1;34m'total sulfur dioxide'\u001b[0m\u001b[1;33m,\u001b[0m \u001b[1;34m'density'\u001b[0m\u001b[1;33m,\u001b[0m\u001b[1;33m\u001b[0m\u001b[1;33m\u001b[0m\u001b[0m\n",
      "\u001b[1;31mAttributeError\u001b[0m: 'KNeighborsClassifier' object has no attribute 'feature_importances_'"
     ]
    }
   ],
   "source": [
    "#If you are set on using KNN though, then the best way to estimate feature importance is by \n",
    "# taking the sample to predict on, and computing its distance from each of its nearest neighbors \n",
    "# for each feature (call these neighb_dist). Then do the same computations for a few random points \n",
    "# (call these rand_dist) instead of the nearest neighbors. Then for each feature, you take the ratio \n",
    "# of neighb_dist / rand_dist, and the smaller the ratio, the more important that feature is.\n",
    "\n",
    "\n",
    "importances = knn.feature_importances_\n",
    "knn_feature_names, knn_feature_scores = zip(*sorted(zip(['fixed acidity', 'volatile acidity', 'citric acid', 'residual sugar',\n",
    "       'chlorides', 'free sulfur dioxide', 'total sulfur dioxide', 'density',\n",
    "       'pH', 'sulphates', 'alcohol', 'quality'],\n",
    "importances), key=lambda x: x[1]))\n",
    "y_position = list(range(len(knn_feature_names)))\n",
    "plt.barh(y_position, knn_feature_scores, height=0.6, align='center')\n",
    "plt.yticks(y_position , knn_feature_names)\n",
    "plt.xlabel('Relative Importance')\n",
    "plt.ylabel('Feature')\n",
    "t = plt.title('Feature Importances for KNeighbors Classifier')"
   ]
  }
 ],
 "metadata": {
  "interpreter": {
   "hash": "ac59ebe37160ed0dfa835113d9b8498d9f09ceb179beaac4002f036b9467c963"
  },
  "kernelspec": {
   "display_name": "Python 3.9.7 64-bit",
   "language": "python",
   "name": "python3"
  },
  "language_info": {
   "codemirror_mode": {
    "name": "ipython",
    "version": 3
   },
   "file_extension": ".py",
   "mimetype": "text/x-python",
   "name": "python",
   "nbconvert_exporter": "python",
   "pygments_lexer": "ipython3",
   "version": "3.8.8"
  },
  "orig_nbformat": 4
 },
 "nbformat": 4,
 "nbformat_minor": 2
}
