{
 "cells": [
  {
   "cell_type": "code",
   "execution_count": 1,
   "metadata": {},
   "outputs": [],
   "source": [
    "#import libraries\n",
    "import numpy as np\n",
    "import pandas as pd\n",
    "import seaborn as sns\n",
    "import matplotlib.pyplot as plt\n",
    "import math\n",
    "\n",
    "# Import models\n",
    "from sklearn.tree import DecisionTreeClassifier\n",
    "from sklearn.svm import SVC\n",
    "from sklearn.neighbors import KNeighborsClassifier\n",
    "from sklearn.linear_model import LogisticRegression\n",
    "from sklearn.ensemble import RandomForestClassifier\n",
    "from xgboost import XGBClassifier\n",
    "\n",
    "from sklearn.datasets import make_classification\n",
    "from sklearn.feature_selection import SelectKBest,f_classif, chi2\n",
    "from sklearn.datasets import make_regression\n",
    "from sklearn.linear_model import LinearRegression\n",
    "from matplotlib import pyplot\n",
    "from collections import Counter\n",
    "from sklearn.feature_selection import RFE\n",
    "from sklearn.linear_model import RidgeCV, LassoCV, Ridge, Lasso\n",
    "\n",
    "\n",
    "# metrics evaluation\n",
    "from sklearn.metrics import confusion_matrix, classification_report, accuracy_score\n",
    "from sklearn.metrics import cohen_kappa_score\n",
    "import statsmodels.api as sm\n",
    "from sklearn.inspection import permutation_importance\n",
    "from sklearn.metrics import make_scorer\n",
    "from sklearn.model_selection import cross_validate\n",
    "from sklearn.model_selection import cross_val_score\n",
    "\n",
    "# To standardise data\n",
    "from sklearn.preprocessing import StandardScaler, LabelEncoder, OrdinalEncoder\n",
    "from sklearn.preprocessing import MinMaxScaler\n",
    "from imblearn.under_sampling import RandomUnderSampler\n",
    "\n",
    "# For train/test split\n",
    "from sklearn.model_selection import train_test_split\n",
    "\n",
    "\n",
    "from sklearn.feature_selection import VarianceThreshold as vt\n",
    "from imblearn.pipeline import make_pipeline, Pipeline\n",
    "from imblearn.over_sampling import SMOTE\n",
    "from sklearn.model_selection import GridSearchCV"
   ]
  },
  {
   "cell_type": "code",
   "execution_count": 2,
   "metadata": {},
   "outputs": [],
   "source": [
    "#import CSVs, assign headers and remove quotations from column headers\n",
    "red_wine = pd.read_csv(r'C:\\Users\\Killian\\Projects\\Wine analysis\\Wine data\\winequality-red.csv', sep=';',header=0, engine='python')"
   ]
  },
  {
   "cell_type": "code",
   "execution_count": 3,
   "metadata": {},
   "outputs": [
    {
     "data": {
      "text/plain": [
       "low       744\n",
       "medium    638\n",
       "high      217\n",
       "Name: label, dtype: int64"
      ]
     },
     "execution_count": 3,
     "metadata": {},
     "output_type": "execute_result"
    }
   ],
   "source": [
    "red_wine['label'] = red_wine['quality'].apply(lambda value: 'low' if value <= 5 else 'medium' if value <=6 else 'high')\n",
    "red_wine.head()\n",
    "red_wine[\"label\"].value_counts()"
   ]
  },
  {
   "cell_type": "code",
   "execution_count": 4,
   "metadata": {},
   "outputs": [],
   "source": [
    "red_wine['category'] = red_wine.label.map({\"low\" : \"0\", \"medium\" : \"1\", \"high\" : \"2\"}).astype('int')\n",
    "\n",
    "red_wine = red_wine.drop(columns=[\"label\", \"quality\"]) "
   ]
  },
  {
   "cell_type": "code",
   "execution_count": 5,
   "metadata": {},
   "outputs": [
    {
     "data": {
      "text/html": [
       "<div>\n",
       "<style scoped>\n",
       "    .dataframe tbody tr th:only-of-type {\n",
       "        vertical-align: middle;\n",
       "    }\n",
       "\n",
       "    .dataframe tbody tr th {\n",
       "        vertical-align: top;\n",
       "    }\n",
       "\n",
       "    .dataframe thead th {\n",
       "        text-align: right;\n",
       "    }\n",
       "</style>\n",
       "<table border=\"1\" class=\"dataframe\">\n",
       "  <thead>\n",
       "    <tr style=\"text-align: right;\">\n",
       "      <th></th>\n",
       "      <th>fixed acidity</th>\n",
       "      <th>volatile acidity</th>\n",
       "      <th>citric acid</th>\n",
       "      <th>residual sugar</th>\n",
       "      <th>chlorides</th>\n",
       "      <th>free sulfur dioxide</th>\n",
       "      <th>total sulfur dioxide</th>\n",
       "      <th>density</th>\n",
       "      <th>pH</th>\n",
       "      <th>sulphates</th>\n",
       "      <th>alcohol</th>\n",
       "      <th>category</th>\n",
       "    </tr>\n",
       "  </thead>\n",
       "  <tbody>\n",
       "    <tr>\n",
       "      <th>1594</th>\n",
       "      <td>6.2</td>\n",
       "      <td>0.600</td>\n",
       "      <td>0.08</td>\n",
       "      <td>2.0</td>\n",
       "      <td>0.090</td>\n",
       "      <td>32.0</td>\n",
       "      <td>44.0</td>\n",
       "      <td>0.99490</td>\n",
       "      <td>3.45</td>\n",
       "      <td>0.58</td>\n",
       "      <td>10.5</td>\n",
       "      <td>0</td>\n",
       "    </tr>\n",
       "    <tr>\n",
       "      <th>1595</th>\n",
       "      <td>5.9</td>\n",
       "      <td>0.550</td>\n",
       "      <td>0.10</td>\n",
       "      <td>2.2</td>\n",
       "      <td>0.062</td>\n",
       "      <td>39.0</td>\n",
       "      <td>51.0</td>\n",
       "      <td>0.99512</td>\n",
       "      <td>3.52</td>\n",
       "      <td>0.76</td>\n",
       "      <td>11.2</td>\n",
       "      <td>1</td>\n",
       "    </tr>\n",
       "    <tr>\n",
       "      <th>1596</th>\n",
       "      <td>6.3</td>\n",
       "      <td>0.510</td>\n",
       "      <td>0.13</td>\n",
       "      <td>2.3</td>\n",
       "      <td>0.076</td>\n",
       "      <td>29.0</td>\n",
       "      <td>40.0</td>\n",
       "      <td>0.99574</td>\n",
       "      <td>3.42</td>\n",
       "      <td>0.75</td>\n",
       "      <td>11.0</td>\n",
       "      <td>1</td>\n",
       "    </tr>\n",
       "    <tr>\n",
       "      <th>1597</th>\n",
       "      <td>5.9</td>\n",
       "      <td>0.645</td>\n",
       "      <td>0.12</td>\n",
       "      <td>2.0</td>\n",
       "      <td>0.075</td>\n",
       "      <td>32.0</td>\n",
       "      <td>44.0</td>\n",
       "      <td>0.99547</td>\n",
       "      <td>3.57</td>\n",
       "      <td>0.71</td>\n",
       "      <td>10.2</td>\n",
       "      <td>0</td>\n",
       "    </tr>\n",
       "    <tr>\n",
       "      <th>1598</th>\n",
       "      <td>6.0</td>\n",
       "      <td>0.310</td>\n",
       "      <td>0.47</td>\n",
       "      <td>3.6</td>\n",
       "      <td>0.067</td>\n",
       "      <td>18.0</td>\n",
       "      <td>42.0</td>\n",
       "      <td>0.99549</td>\n",
       "      <td>3.39</td>\n",
       "      <td>0.66</td>\n",
       "      <td>11.0</td>\n",
       "      <td>1</td>\n",
       "    </tr>\n",
       "  </tbody>\n",
       "</table>\n",
       "</div>"
      ],
      "text/plain": [
       "      fixed acidity  volatile acidity  citric acid  residual sugar  chlorides  \\\n",
       "1594            6.2             0.600         0.08             2.0      0.090   \n",
       "1595            5.9             0.550         0.10             2.2      0.062   \n",
       "1596            6.3             0.510         0.13             2.3      0.076   \n",
       "1597            5.9             0.645         0.12             2.0      0.075   \n",
       "1598            6.0             0.310         0.47             3.6      0.067   \n",
       "\n",
       "      free sulfur dioxide  total sulfur dioxide  density    pH  sulphates  \\\n",
       "1594                 32.0                  44.0  0.99490  3.45       0.58   \n",
       "1595                 39.0                  51.0  0.99512  3.52       0.76   \n",
       "1596                 29.0                  40.0  0.99574  3.42       0.75   \n",
       "1597                 32.0                  44.0  0.99547  3.57       0.71   \n",
       "1598                 18.0                  42.0  0.99549  3.39       0.66   \n",
       "\n",
       "      alcohol  category  \n",
       "1594     10.5         0  \n",
       "1595     11.2         1  \n",
       "1596     11.0         1  \n",
       "1597     10.2         0  \n",
       "1598     11.0         1  "
      ]
     },
     "execution_count": 5,
     "metadata": {},
     "output_type": "execute_result"
    }
   ],
   "source": [
    "red_wine.tail()"
   ]
  },
  {
   "cell_type": "code",
   "execution_count": 6,
   "metadata": {},
   "outputs": [
    {
     "data": {
      "text/html": [
       "<div>\n",
       "<style scoped>\n",
       "    .dataframe tbody tr th:only-of-type {\n",
       "        vertical-align: middle;\n",
       "    }\n",
       "\n",
       "    .dataframe tbody tr th {\n",
       "        vertical-align: top;\n",
       "    }\n",
       "\n",
       "    .dataframe thead th {\n",
       "        text-align: right;\n",
       "    }\n",
       "</style>\n",
       "<table border=\"1\" class=\"dataframe\">\n",
       "  <thead>\n",
       "    <tr style=\"text-align: right;\">\n",
       "      <th></th>\n",
       "      <th>fixed acidity</th>\n",
       "      <th>volatile acidity</th>\n",
       "      <th>residual sugar</th>\n",
       "      <th>chlorides</th>\n",
       "      <th>free sulfur dioxide</th>\n",
       "      <th>sulphates</th>\n",
       "      <th>alcohol</th>\n",
       "      <th>category</th>\n",
       "    </tr>\n",
       "  </thead>\n",
       "  <tbody>\n",
       "    <tr>\n",
       "      <th>1594</th>\n",
       "      <td>0.141593</td>\n",
       "      <td>0.328767</td>\n",
       "      <td>0.075342</td>\n",
       "      <td>0.130217</td>\n",
       "      <td>0.436620</td>\n",
       "      <td>0.149701</td>\n",
       "      <td>0.323077</td>\n",
       "      <td>0</td>\n",
       "    </tr>\n",
       "    <tr>\n",
       "      <th>1595</th>\n",
       "      <td>0.115044</td>\n",
       "      <td>0.294521</td>\n",
       "      <td>0.089041</td>\n",
       "      <td>0.083472</td>\n",
       "      <td>0.535211</td>\n",
       "      <td>0.257485</td>\n",
       "      <td>0.430769</td>\n",
       "      <td>1</td>\n",
       "    </tr>\n",
       "    <tr>\n",
       "      <th>1596</th>\n",
       "      <td>0.150442</td>\n",
       "      <td>0.267123</td>\n",
       "      <td>0.095890</td>\n",
       "      <td>0.106845</td>\n",
       "      <td>0.394366</td>\n",
       "      <td>0.251497</td>\n",
       "      <td>0.400000</td>\n",
       "      <td>1</td>\n",
       "    </tr>\n",
       "    <tr>\n",
       "      <th>1597</th>\n",
       "      <td>0.115044</td>\n",
       "      <td>0.359589</td>\n",
       "      <td>0.075342</td>\n",
       "      <td>0.105175</td>\n",
       "      <td>0.436620</td>\n",
       "      <td>0.227545</td>\n",
       "      <td>0.276923</td>\n",
       "      <td>0</td>\n",
       "    </tr>\n",
       "    <tr>\n",
       "      <th>1598</th>\n",
       "      <td>0.123894</td>\n",
       "      <td>0.130137</td>\n",
       "      <td>0.184932</td>\n",
       "      <td>0.091820</td>\n",
       "      <td>0.239437</td>\n",
       "      <td>0.197605</td>\n",
       "      <td>0.400000</td>\n",
       "      <td>1</td>\n",
       "    </tr>\n",
       "  </tbody>\n",
       "</table>\n",
       "</div>"
      ],
      "text/plain": [
       "      fixed acidity  volatile acidity  residual sugar  chlorides  \\\n",
       "1594       0.141593          0.328767        0.075342   0.130217   \n",
       "1595       0.115044          0.294521        0.089041   0.083472   \n",
       "1596       0.150442          0.267123        0.095890   0.106845   \n",
       "1597       0.115044          0.359589        0.075342   0.105175   \n",
       "1598       0.123894          0.130137        0.184932   0.091820   \n",
       "\n",
       "      free sulfur dioxide  sulphates   alcohol  category  \n",
       "1594             0.436620   0.149701  0.323077         0  \n",
       "1595             0.535211   0.257485  0.430769         1  \n",
       "1596             0.394366   0.251497  0.400000         1  \n",
       "1597             0.436620   0.227545  0.276923         0  \n",
       "1598             0.239437   0.197605  0.400000         1  "
      ]
     },
     "execution_count": 6,
     "metadata": {},
     "output_type": "execute_result"
    }
   ],
   "source": [
    "min_max_scaler = MinMaxScaler()\n",
    "red_wine = red_wine.drop(columns=['citric acid', 'total sulfur dioxide', 'density', 'pH'])\n",
    "red_wine[red_wine.columns[0:-1]] = min_max_scaler.fit_transform(red_wine[red_wine.columns[0:-1]])\n",
    "red_wine = pd.concat([red_wine],axis=1, sort=False)\n",
    "red_wine.tail()"
   ]
  },
  {
   "cell_type": "code",
   "execution_count": 7,
   "metadata": {},
   "outputs": [
    {
     "name": "stdout",
     "output_type": "stream",
     "text": [
      "['fixed acidity', 'volatile acidity', 'residual sugar', 'chlorides', 'free sulfur dioxide', 'sulphates', 'alcohol']\n",
      "0       0\n",
      "1       0\n",
      "2       0\n",
      "3       1\n",
      "4       0\n",
      "       ..\n",
      "1594    0\n",
      "1595    1\n",
      "1596    1\n",
      "1597    0\n",
      "1598    1\n",
      "Name: category, Length: 1599, dtype: int32\n"
     ]
    }
   ],
   "source": [
    "# Create target and features for algorithm\n",
    "# Full feature list for ease of access while doing Backward Elimination and refining model: 'fixed acidity', 'volatile acidity', 'residual sugar', 'density', 'pH', \n",
    "# 'sulphates','citric acid', 'chlorides', 'free sulfur dioxide', 'total sulfur dioxide', 'alcohol'\n",
    "\n",
    "X = red_wine.iloc[:,0:7]\n",
    "y = red_wine.iloc[:,-1] #target \n",
    "# Final list will include features removed due to results from Backward Elimination.\n",
    "X_list = list(X.columns)\n",
    "print(X.columns.tolist())\n",
    "print(y)"
   ]
  },
  {
   "cell_type": "code",
   "execution_count": 8,
   "metadata": {},
   "outputs": [
    {
     "data": {
      "image/png": "[encoded data removed]",
      "text/plain": [
       "<Figure size 432x288 with 1 Axes>"
      ]
     },
     "metadata": {
      "needs_background": "light"
     },
     "output_type": "display_data"
    }
   ],
   "source": [
    "sns.countplot(x='category', data=red_wine, palette = 'hls')\n",
    "plt.show()\n",
    "\n",
    "#reasonably balanced data. No need to apply SMOTE, but will demonstrate. "
   ]
  },
  {
   "cell_type": "code",
   "execution_count": 9,
   "metadata": {},
   "outputs": [
    {
     "name": "stdout",
     "output_type": "stream",
     "text": [
      "Class=0, n=744 (33.333%)\n",
      "Class=1, n=744 (33.333%)\n",
      "Class=2, n=744 (33.333%)\n"
     ]
    },
    {
     "data": {
      "image/png": "[encoded data removed]",
      "text/plain": [
       "<Figure size 432x288 with 1 Axes>"
      ]
     },
     "metadata": {
      "needs_background": "light"
     },
     "output_type": "display_data"
    }
   ],
   "source": [
    "#SMOTE (synthetic minority oversampling technique) is one of the most commonly used oversampling methods to solve the imbalance problem. \n",
    "# It aims to balance class distribution by randomly increasing minority class examples by replicating them. \n",
    "# SMOTE synthesizes new minority instances between existing minority instances.\n",
    "\n",
    "# transform the dataset\n",
    "oversample = SMOTE()\n",
    "X, y = oversample.fit_resample(X, y)\n",
    "\n",
    "# summarize distribution\n",
    "counter = Counter(y)\n",
    "for k,v in counter.items():\n",
    "\tper = v / len(y) * 100\n",
    "\tprint('Class=%d, n=%d (%.3f%%)' % (k, v, per))\n",
    "# plot the distribution\n",
    "pyplot.bar(counter.keys(), counter.values())\n",
    "pyplot.show()"
   ]
  },
  {
   "cell_type": "code",
   "execution_count": 10,
   "metadata": {},
   "outputs": [
    {
     "name": "stdout",
     "output_type": "stream",
     "text": [
      "1    530\n",
      "2    524\n",
      "0    508\n",
      "Name: category, dtype: int64 0    236\n",
      "2    220\n",
      "1    214\n",
      "Name: category, dtype: int64\n",
      "Features: ['fixed acidity', 'volatile acidity', 'residual sugar', 'chlorides', 'free sulfur dioxide', 'sulphates', 'alcohol']\n"
     ]
    }
   ],
   "source": [
    "# Split the data into training and testing sets\n",
    "X_train, X_test, y_train, y_test = train_test_split(X, y, test_size=0.3, random_state=42) #, stratify=y) # random state controls the shuffling applied before the split. 42 is a popular random seed.\n",
    "#stratification ensures equitable split of low/medium/high quality across training and test data\n",
    "print((y_train.value_counts()), y_test.value_counts())\n",
    "print('Features:', list(X))"
   ]
  },
  {
   "cell_type": "code",
   "execution_count": 11,
   "metadata": {},
   "outputs": [
    {
     "data": {
      "text/plain": [
       "{'C': 1.0,\n",
       " 'class_weight': None,\n",
       " 'dual': False,\n",
       " 'fit_intercept': True,\n",
       " 'intercept_scaling': 1,\n",
       " 'l1_ratio': None,\n",
       " 'max_iter': 100,\n",
       " 'multi_class': 'auto',\n",
       " 'n_jobs': None,\n",
       " 'penalty': 'l2',\n",
       " 'random_state': None,\n",
       " 'solver': 'lbfgs',\n",
       " 'tol': 0.0001,\n",
       " 'verbose': 0,\n",
       " 'warm_start': False}"
      ]
     },
     "execution_count": 11,
     "metadata": {},
     "output_type": "execute_result"
    }
   ],
   "source": [
    "# fit model to training data (firstly uing defaults)\n",
    "model = LogisticRegression(max_iter = 100)\n",
    "model.fit(X_train, y_train)\n",
    "model.get_params() #See the parameters used "
   ]
  },
  {
   "cell_type": "code",
   "execution_count": 12,
   "metadata": {},
   "outputs": [
    {
     "name": "stdout",
     "output_type": "stream",
     "text": [
      "Accuracy: 63.73%\n"
     ]
    }
   ],
   "source": [
    "# make predictions for test data\n",
    "y_pred = model.predict(X_test)\n",
    "predictions = [round(value) for value in y_pred]\n",
    "# evaluate predictions\n",
    "accuracy = accuracy_score(y_test, predictions)\n",
    "print(\"Accuracy: %.2f%%\" % (accuracy * 100.0))"
   ]
  },
  {
   "cell_type": "code",
   "execution_count": 13,
   "metadata": {},
   "outputs": [
    {
     "name": "stdout",
     "output_type": "stream",
     "text": [
      "Cohen-Kappa score: 0.45\n"
     ]
    }
   ],
   "source": [
    "#Poor agreement = Less than 0.20 (including negative numbers)\n",
    "#Fair agreement = 0.20 to 0.40\n",
    "#Moderate agreement = 0.40 to 0.60\n",
    "#Good agreement = 0.60 to 0.80\n",
    "#Very good agreement = 0.80 to 1.00\n",
    "\n",
    "# Cohen’s Kappa is a statistical measure that is used to measure the reliability of \n",
    "# two raters who are rating the same quantity and identifies how frequently the raters are in agreement. \n",
    "\n",
    "\n",
    "kappa = cohen_kappa_score(y_pred, y_test)\n",
    "print(\"Cohen-Kappa score:\", round(kappa, 2))"
   ]
  },
  {
   "cell_type": "code",
   "execution_count": 14,
   "metadata": {},
   "outputs": [
    {
     "name": "stdout",
     "output_type": "stream",
     "text": [
      "              precision    recall  f1-score   support\n",
      "\n",
      "         low       0.65      0.76      0.70       236\n",
      "      medium       0.48      0.33      0.39       214\n",
      "        high       0.72      0.80      0.76       220\n",
      "\n",
      "    accuracy                           0.64       670\n",
      "   macro avg       0.62      0.63      0.62       670\n",
      "weighted avg       0.62      0.64      0.62       670\n",
      "\n"
     ]
    }
   ],
   "source": [
    "print(classification_report(y_test, y_pred, target_names=[\"low\",\"medium\", \"high\"]))"
   ]
  },
  {
   "cell_type": "code",
   "execution_count": 15,
   "metadata": {},
   "outputs": [
    {
     "name": "stdout",
     "output_type": "stream",
     "text": [
      "Confusion matrix:\n"
     ]
    },
    {
     "data": {
      "text/html": [
       "<div>\n",
       "<style scoped>\n",
       "    .dataframe tbody tr th:only-of-type {\n",
       "        vertical-align: middle;\n",
       "    }\n",
       "\n",
       "    .dataframe tbody tr th {\n",
       "        vertical-align: top;\n",
       "    }\n",
       "\n",
       "    .dataframe thead th {\n",
       "        text-align: right;\n",
       "    }\n",
       "</style>\n",
       "<table border=\"1\" class=\"dataframe\">\n",
       "  <thead>\n",
       "    <tr style=\"text-align: right;\">\n",
       "      <th></th>\n",
       "      <th>low</th>\n",
       "      <th>medium</th>\n",
       "      <th>high</th>\n",
       "    </tr>\n",
       "  </thead>\n",
       "  <tbody>\n",
       "    <tr>\n",
       "      <th>low</th>\n",
       "      <td>180</td>\n",
       "      <td>41</td>\n",
       "      <td>15</td>\n",
       "    </tr>\n",
       "    <tr>\n",
       "      <th>medium</th>\n",
       "      <td>90</td>\n",
       "      <td>71</td>\n",
       "      <td>53</td>\n",
       "    </tr>\n",
       "    <tr>\n",
       "      <th>high</th>\n",
       "      <td>9</td>\n",
       "      <td>35</td>\n",
       "      <td>176</td>\n",
       "    </tr>\n",
       "  </tbody>\n",
       "</table>\n",
       "</div>"
      ],
      "text/plain": [
       "        low  medium  high\n",
       "low     180      41    15\n",
       "medium   90      71    53\n",
       "high      9      35   176"
      ]
     },
     "metadata": {},
     "output_type": "display_data"
    }
   ],
   "source": [
    "print(\"Confusion matrix:\")\n",
    "labels = np.unique(y_test)\n",
    "a = confusion_matrix(y_test, y_pred, labels=labels)\n",
    "a = pd.DataFrame(a, index=(\"low\", \"medium\", \"high\"), columns=(\"low\", \"medium\", \"high\"))\n",
    "display(a)"
   ]
  },
  {
   "cell_type": "code",
   "execution_count": 16,
   "metadata": {},
   "outputs": [
    {
     "data": {
      "image/png": "[encoded data removed]",
      "text/plain": [
       "<Figure size 288x288 with 2 Axes>"
      ]
     },
     "metadata": {
      "needs_background": "light"
     },
     "output_type": "display_data"
    }
   ],
   "source": [
    "def plot_confusion_matrix(a, title='Confusion matrix', cmap=plt.cm.gray_r):\n",
    "    plt.matshow(a, cmap=cmap) # imshow\n",
    "    #plt.title(title)\n",
    "    plt.colorbar()\n",
    "    tick_marks = np.arange(len(a.columns))\n",
    "    plt.xticks(tick_marks, a.columns, rotation=45)\n",
    "    plt.yticks(tick_marks, a.index)\n",
    "    #plt.tight_layout()\n",
    "    plt.ylabel(a.index.name)\n",
    "    plt.xlabel(a.columns.name)\n",
    "\n",
    "plot_confusion_matrix(a)"
   ]
  },
  {
   "cell_type": "code",
   "execution_count": 17,
   "metadata": {},
   "outputs": [
    {
     "name": "stdout",
     "output_type": "stream",
     "text": [
      "[0.59139785 0.6061828  0.62634409]\n"
     ]
    }
   ],
   "source": [
    "#kfold = KFold(n_splits=10, random_state=7, shuffle=True)\n",
    "print(cross_val_score(model, X, y, cv=3))"
   ]
  },
  {
   "cell_type": "code",
   "execution_count": 18,
   "metadata": {},
   "outputs": [
    {
     "data": {
      "text/html": [
       "<div>\n",
       "<style scoped>\n",
       "    .dataframe tbody tr th:only-of-type {\n",
       "        vertical-align: middle;\n",
       "    }\n",
       "\n",
       "    .dataframe tbody tr th {\n",
       "        vertical-align: top;\n",
       "    }\n",
       "\n",
       "    .dataframe thead th {\n",
       "        text-align: right;\n",
       "    }\n",
       "</style>\n",
       "<table border=\"1\" class=\"dataframe\">\n",
       "  <thead>\n",
       "    <tr style=\"text-align: right;\">\n",
       "      <th></th>\n",
       "      <th>fixed acidity</th>\n",
       "      <th>volatile acidity</th>\n",
       "      <th>residual sugar</th>\n",
       "      <th>chlorides</th>\n",
       "      <th>free sulfur dioxide</th>\n",
       "      <th>sulphates</th>\n",
       "      <th>alcohol</th>\n",
       "    </tr>\n",
       "  </thead>\n",
       "  <tbody>\n",
       "    <tr>\n",
       "      <th>low</th>\n",
       "      <td>-0.099607</td>\n",
       "      <td>0.460790</td>\n",
       "      <td>0.002451</td>\n",
       "      <td>0.262084</td>\n",
       "      <td>0.137407</td>\n",
       "      <td>-0.401037</td>\n",
       "      <td>-0.969059</td>\n",
       "    </tr>\n",
       "    <tr>\n",
       "      <th>medium</th>\n",
       "      <td>-0.093116</td>\n",
       "      <td>0.011867</td>\n",
       "      <td>-0.066155</td>\n",
       "      <td>0.081505</td>\n",
       "      <td>0.043700</td>\n",
       "      <td>-0.017992</td>\n",
       "      <td>0.003114</td>\n",
       "    </tr>\n",
       "    <tr>\n",
       "      <th>high</th>\n",
       "      <td>0.192723</td>\n",
       "      <td>-0.472658</td>\n",
       "      <td>0.063704</td>\n",
       "      <td>-0.343589</td>\n",
       "      <td>-0.181107</td>\n",
       "      <td>0.419030</td>\n",
       "      <td>0.965945</td>\n",
       "    </tr>\n",
       "  </tbody>\n",
       "</table>\n",
       "</div>"
      ],
      "text/plain": [
       "        fixed acidity  volatile acidity  residual sugar  chlorides  \\\n",
       "low         -0.099607          0.460790        0.002451   0.262084   \n",
       "medium      -0.093116          0.011867       -0.066155   0.081505   \n",
       "high         0.192723         -0.472658        0.063704  -0.343589   \n",
       "\n",
       "        free sulfur dioxide  sulphates   alcohol  \n",
       "low                0.137407  -0.401037 -0.969059  \n",
       "medium             0.043700  -0.017992  0.003114  \n",
       "high              -0.181107   0.419030  0.965945  "
      ]
     },
     "metadata": {},
     "output_type": "display_data"
    }
   ],
   "source": [
    "#feature importance (the magnitude of its coefficient times the standard deviation of the corresponding parameter in the data.)\n",
    "model.fit(X / np.std(X, 0), y)\n",
    "g = pd.DataFrame(model.coef_, columns=X.columns, index= (\"low\", \"medium\", \"high\"))\n",
    "display(g)"
   ]
  }
 ],
 "metadata": {
  "interpreter": {
   "hash": "b3ba2566441a7c06988d0923437866b63cedc61552a5af99d1f4fb67d367b25f"
  },
  "kernelspec": {
   "display_name": "Python 3.8.8 64-bit ('base': conda)",
   "language": "python",
   "name": "python3"
  },
  "language_info": {
   "codemirror_mode": {
    "name": "ipython",
    "version": 3
   },
   "file_extension": ".py",
   "mimetype": "text/x-python",
   "name": "python",
   "nbconvert_exporter": "python",
   "pygments_lexer": "ipython3",
   "version": "3.8.8"
  },
  "orig_nbformat": 4
 },
 "nbformat": 4,
 "nbformat_minor": 2
}
